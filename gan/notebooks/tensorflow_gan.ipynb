{
 "cells": [
  {
   "cell_type": "code",
   "execution_count": 1,
   "metadata": {},
   "outputs": [
    {
     "name": "stdout",
     "output_type": "stream",
     "text": [
      "INFO:tensorflow:Using local port 22693\n",
      "INFO:tensorflow:Using local port 18589\n",
      "INFO:tensorflow:Using local port 21701\n",
      "INFO:tensorflow:Using local port 15298\n",
      "INFO:tensorflow:Using local port 15244\n",
      "INFO:tensorflow:Using local port 16360\n",
      "INFO:tensorflow:Using local port 20356\n",
      "INFO:tensorflow:Using local port 24438\n",
      "INFO:tensorflow:Using local port 21949\n",
      "INFO:tensorflow:Using local port 17052\n"
     ]
    }
   ],
   "source": [
    "import tensorflow as tf\n",
    "from tensorflow import keras\n",
    "import tensorflow_datasets as tfds"
   ]
  },
  {
   "cell_type": "code",
   "execution_count": 10,
   "metadata": {},
   "outputs": [],
   "source": [
    "### Need to define the model using the architecture specified in Caffe prototxt file, then do model.load_weights('/home/mzvyagin/dilation8_keras_weights.h5')"
   ]
  },
  {
   "cell_type": "code",
   "execution_count": null,
   "metadata": {},
   "outputs": [],
   "source": [
    "def get_dilation8_tf(config):\n",
    "    model = keras.models.Sequential([\n",
    "        keras.layers.Conv2D(filters=64, kernel_size=3, strides=1, activation='relu', input_shape=(900, 900, 3), name=\"conv1_1\"),\n",
    "        keras.layers.Conv2D(filters=64, kernel_size=3, strides=1, activation='relu', name=\"conv1_2\"),\n",
    "        keras.layers.MaxPool2D(pool_size=2, strides=2, padding=\"same\", name=\"pool1\"),\n",
    "        keras.layers.Conv2D(filters=128, kernel_size=3, strides=1, activation='relu', name=\"conv2_1\"),\n",
    "        keras.layers.Conv2D(filters=128, kernel_size=3, strides=1, activation='relu', name=\"conv2_2\"),\n",
    "        keras.layers.MaxPool2D(pool_size=2, strides=2, padding=\"same\", name=\"pool2\"),\n",
    "        keras.layers.Conv2D(filters=256, kernel_size=3, strides=1, activation='relu', name=\"conv3_1\"),\n",
    "        keras.layers.Conv2D(filters=256, kernel_size=3, strides=1, activation='relu', name=\"conv3_2\"),\n",
    "        keras.layers.Conv2D(filters=256, kernel_size=3, strides=1, activation='relu', name=\"conv3_3\"),\n",
    "        keras.layers.MaxPool2D(pool_size=2, strides=2, padding=\"same\", name=\"pool3\"),\n",
    "        keras.layers.Conv2D(filters=512, kernel_size=3, strides=1, activation='relu', name=\"conv4_1\"),\n",
    "        keras.layers.Conv2D(filters=512, kernel_size=3, strides=1, activation='relu', name=\"conv4_2\"),\n",
    "        keras.layers.Conv2D(filters=512, kernel_size=3, strides=1, activation='relu', name=\"conv4_3\"),\n",
    "        keras.layers.Conv2D(filters=512, kernel_size=3, strides=1, activation='relu', name=\"conv5_1\", dilation_rate=2),\n",
    "        keras.layers.Conv2D(filters=512, kernel_size=3, strides=1, activation='relu', name=\"conv5_2\", dilation_rate=2),\n",
    "        keras.layers.Conv2D(filters=512, kernel_size=3, strides=1, activation='relu', name=\"conv5_3\", dilation_rate=2),\n",
    "        #now fully connected layers\n",
    "        keras.layers.Conv2D(filters=4096, kernel_size=7, strides=1, activation='relu', name=\"fc6\", dilation_rate=4)\n",
    "        keras.layers.Dropout(config['dropout'], name=\"drop6\")\n",
    "        keras.layers.Conv2D(filters=4096, kernel_size=1, strides=1, activation='relu', name=\"fc7\")\n",
    "        keras.layers.Dropout(config['dropout'], name=\"drop7\")\n",
    "        keras.layers.Conv2D(filters=21, kernel_size=1, name=\"fc-final\")\n",
    "        # now decoding\n",
    "        \n",
    "    ])"
   ]
  },
  {
   "cell_type": "code",
   "execution_count": 9,
   "metadata": {},
   "outputs": [
    {
     "ename": "ValueError",
     "evalue": "No model found in config file.",
     "output_type": "error",
     "traceback": [
      "\u001b[0;31m---------------------------------------------------------------------------\u001b[0m",
      "\u001b[0;31mValueError\u001b[0m                                Traceback (most recent call last)",
      "\u001b[0;32m<ipython-input-9-8164cea4f0dd>\u001b[0m in \u001b[0;36m<module>\u001b[0;34m\u001b[0m\n\u001b[0;32m----> 1\u001b[0;31m \u001b[0mmodel\u001b[0m \u001b[0;34m=\u001b[0m \u001b[0mtf\u001b[0m\u001b[0;34m.\u001b[0m\u001b[0mkeras\u001b[0m\u001b[0;34m.\u001b[0m\u001b[0mmodels\u001b[0m\u001b[0;34m.\u001b[0m\u001b[0mload_model\u001b[0m\u001b[0;34m(\u001b[0m\u001b[0;34m'/home/mzvyagin/dilation8_keras_weights.h5'\u001b[0m\u001b[0;34m)\u001b[0m\u001b[0;34m\u001b[0m\u001b[0;34m\u001b[0m\u001b[0m\n\u001b[0m",
      "\u001b[0;32m~/miniconda3/envs/source/lib/python3.8/site-packages/tensorflow/python/keras/saving/save.py\u001b[0m in \u001b[0;36mload_model\u001b[0;34m(filepath, custom_objects, compile, options)\u001b[0m\n\u001b[1;32m    182\u001b[0m       if (h5py is not None and\n\u001b[1;32m    183\u001b[0m           (isinstance(filepath, h5py.File) or h5py.is_hdf5(filepath))):\n\u001b[0;32m--> 184\u001b[0;31m         return hdf5_format.load_model_from_hdf5(filepath, custom_objects,\n\u001b[0m\u001b[1;32m    185\u001b[0m                                                 compile)\n\u001b[1;32m    186\u001b[0m \u001b[0;34m\u001b[0m\u001b[0m\n",
      "\u001b[0;32m~/miniconda3/envs/source/lib/python3.8/site-packages/tensorflow/python/keras/saving/hdf5_format.py\u001b[0m in \u001b[0;36mload_model_from_hdf5\u001b[0;34m(filepath, custom_objects, compile)\u001b[0m\n\u001b[1;32m    179\u001b[0m     \u001b[0mmodel_config\u001b[0m \u001b[0;34m=\u001b[0m \u001b[0mf\u001b[0m\u001b[0;34m.\u001b[0m\u001b[0mattrs\u001b[0m\u001b[0;34m.\u001b[0m\u001b[0mget\u001b[0m\u001b[0;34m(\u001b[0m\u001b[0;34m'model_config'\u001b[0m\u001b[0;34m)\u001b[0m\u001b[0;34m\u001b[0m\u001b[0;34m\u001b[0m\u001b[0m\n\u001b[1;32m    180\u001b[0m     \u001b[0;32mif\u001b[0m \u001b[0mmodel_config\u001b[0m \u001b[0;32mis\u001b[0m \u001b[0;32mNone\u001b[0m\u001b[0;34m:\u001b[0m\u001b[0;34m\u001b[0m\u001b[0;34m\u001b[0m\u001b[0m\n\u001b[0;32m--> 181\u001b[0;31m       \u001b[0;32mraise\u001b[0m \u001b[0mValueError\u001b[0m\u001b[0;34m(\u001b[0m\u001b[0;34m'No model found in config file.'\u001b[0m\u001b[0;34m)\u001b[0m\u001b[0;34m\u001b[0m\u001b[0;34m\u001b[0m\u001b[0m\n\u001b[0m\u001b[1;32m    182\u001b[0m     \u001b[0mmodel_config\u001b[0m \u001b[0;34m=\u001b[0m \u001b[0mjson_utils\u001b[0m\u001b[0;34m.\u001b[0m\u001b[0mdecode\u001b[0m\u001b[0;34m(\u001b[0m\u001b[0mmodel_config\u001b[0m\u001b[0;34m.\u001b[0m\u001b[0mdecode\u001b[0m\u001b[0;34m(\u001b[0m\u001b[0;34m'utf-8'\u001b[0m\u001b[0;34m)\u001b[0m\u001b[0;34m)\u001b[0m\u001b[0;34m\u001b[0m\u001b[0;34m\u001b[0m\u001b[0m\n\u001b[1;32m    183\u001b[0m     model = model_config_lib.model_from_config(model_config,\n",
      "\u001b[0;31mValueError\u001b[0m: No model found in config file."
     ]
    }
   ],
   "source": [
    "model = tf.keras.models.load_model('/home/mzvyagin/dilation8_keras_weights.h5')"
   ]
  },
  {
   "cell_type": "code",
   "execution_count": null,
   "metadata": {},
   "outputs": [],
   "source": []
  }
 ],
 "metadata": {
  "kernelspec": {
   "display_name": "Python 3",
   "language": "python",
   "name": "python3"
  },
  "language_info": {
   "codemirror_mode": {
    "name": "ipython",
    "version": 3
   },
   "file_extension": ".py",
   "mimetype": "text/x-python",
   "name": "python",
   "nbconvert_exporter": "python",
   "pygments_lexer": "ipython3",
   "version": "3.8.5"
  }
 },
 "nbformat": 4,
 "nbformat_minor": 4
}
