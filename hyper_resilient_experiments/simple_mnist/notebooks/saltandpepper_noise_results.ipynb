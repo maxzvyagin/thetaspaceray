{
 "cells": [
  {
   "cell_type": "code",
   "execution_count": 1,
   "metadata": {},
   "outputs": [],
   "source": [
    "import pandas as pd\n",
    "import matplotlib.pyplot as plt"
   ]
  },
  {
   "cell_type": "code",
   "execution_count": 2,
   "metadata": {},
   "outputs": [],
   "source": [
    "tf_results = pd.read_csv('tf_fool_saltandpepper.csv')"
   ]
  },
  {
   "cell_type": "code",
   "execution_count": 3,
   "metadata": {},
   "outputs": [
    {
     "data": {
      "text/html": [
       "<div>\n",
       "<style scoped>\n",
       "    .dataframe tbody tr th:only-of-type {\n",
       "        vertical-align: middle;\n",
       "    }\n",
       "\n",
       "    .dataframe tbody tr th {\n",
       "        vertical-align: top;\n",
       "    }\n",
       "\n",
       "    .dataframe thead th {\n",
       "        text-align: right;\n",
       "    }\n",
       "</style>\n",
       "<table border=\"1\" class=\"dataframe\">\n",
       "  <thead>\n",
       "    <tr style=\"text-align: right;\">\n",
       "      <th></th>\n",
       "      <th>trial_id</th>\n",
       "      <th>robust_acc</th>\n",
       "      <th>test_loss</th>\n",
       "      <th>time_this_iter_s</th>\n",
       "      <th>done</th>\n",
       "      <th>timesteps_total</th>\n",
       "      <th>episodes_total</th>\n",
       "      <th>training_iteration</th>\n",
       "      <th>experiment_id</th>\n",
       "      <th>date</th>\n",
       "      <th>...</th>\n",
       "      <th>hostname</th>\n",
       "      <th>node_ip</th>\n",
       "      <th>time_since_restore</th>\n",
       "      <th>timesteps_since_restore</th>\n",
       "      <th>iterations_since_restore</th>\n",
       "      <th>experiment_tag</th>\n",
       "      <th>config.learning_rate</th>\n",
       "      <th>config.dropout</th>\n",
       "      <th>config.epochs</th>\n",
       "      <th>config.batch_size</th>\n",
       "    </tr>\n",
       "  </thead>\n",
       "  <tbody>\n",
       "    <tr>\n",
       "      <th>0</th>\n",
       "      <td>75c8d020</td>\n",
       "      <td>0.100000</td>\n",
       "      <td>2.194781</td>\n",
       "      <td>185.388086</td>\n",
       "      <td>True</td>\n",
       "      <td>NaN</td>\n",
       "      <td>NaN</td>\n",
       "      <td>1</td>\n",
       "      <td>a6c78786292d4ce1834afce5ebccec6b</td>\n",
       "      <td>2020-10-07_06-56-33</td>\n",
       "      <td>...</td>\n",
       "      <td>lambda1</td>\n",
       "      <td>140.221.79.11</td>\n",
       "      <td>185.388086</td>\n",
       "      <td>0</td>\n",
       "      <td>1</td>\n",
       "      <td>1_batch_size=480,dropout=0.86242,epochs=89,lea...</td>\n",
       "      <td>0.091996</td>\n",
       "      <td>0.862424</td>\n",
       "      <td>89</td>\n",
       "      <td>480</td>\n",
       "    </tr>\n",
       "    <tr>\n",
       "      <th>1</th>\n",
       "      <td>75c8d021</td>\n",
       "      <td>0.494774</td>\n",
       "      <td>1.319409</td>\n",
       "      <td>137.880242</td>\n",
       "      <td>True</td>\n",
       "      <td>NaN</td>\n",
       "      <td>NaN</td>\n",
       "      <td>1</td>\n",
       "      <td>93d6917038884b2a80818432b949f2b0</td>\n",
       "      <td>2020-10-07_06-55-45</td>\n",
       "      <td>...</td>\n",
       "      <td>lambda1</td>\n",
       "      <td>140.221.79.11</td>\n",
       "      <td>137.880242</td>\n",
       "      <td>0</td>\n",
       "      <td>1</td>\n",
       "      <td>2_batch_size=574,dropout=0.74806,epochs=58,lea...</td>\n",
       "      <td>0.082690</td>\n",
       "      <td>0.748062</td>\n",
       "      <td>58</td>\n",
       "      <td>574</td>\n",
       "    </tr>\n",
       "    <tr>\n",
       "      <th>2</th>\n",
       "      <td>75c8d022</td>\n",
       "      <td>0.843217</td>\n",
       "      <td>0.576142</td>\n",
       "      <td>141.170249</td>\n",
       "      <td>True</td>\n",
       "      <td>NaN</td>\n",
       "      <td>NaN</td>\n",
       "      <td>1</td>\n",
       "      <td>2d2dfd885bcf4b5497554928a9f5ffa4</td>\n",
       "      <td>2020-10-07_06-55-49</td>\n",
       "      <td>...</td>\n",
       "      <td>lambda1</td>\n",
       "      <td>140.221.79.11</td>\n",
       "      <td>141.170249</td>\n",
       "      <td>0</td>\n",
       "      <td>1</td>\n",
       "      <td>3_batch_size=943,dropout=0.70294,epochs=69,lea...</td>\n",
       "      <td>0.065899</td>\n",
       "      <td>0.702941</td>\n",
       "      <td>69</td>\n",
       "      <td>943</td>\n",
       "    </tr>\n",
       "    <tr>\n",
       "      <th>3</th>\n",
       "      <td>75c8d023</td>\n",
       "      <td>0.837526</td>\n",
       "      <td>0.535381</td>\n",
       "      <td>180.085378</td>\n",
       "      <td>True</td>\n",
       "      <td>NaN</td>\n",
       "      <td>NaN</td>\n",
       "      <td>1</td>\n",
       "      <td>9dcba5cccff14a769c455a2cea3bc8ee</td>\n",
       "      <td>2020-10-07_06-56-27</td>\n",
       "      <td>...</td>\n",
       "      <td>lambda1</td>\n",
       "      <td>140.221.79.11</td>\n",
       "      <td>180.085378</td>\n",
       "      <td>0</td>\n",
       "      <td>1</td>\n",
       "      <td>4_batch_size=633,dropout=0.50343,epochs=77,lea...</td>\n",
       "      <td>0.073180</td>\n",
       "      <td>0.503429</td>\n",
       "      <td>77</td>\n",
       "      <td>633</td>\n",
       "    </tr>\n",
       "    <tr>\n",
       "      <th>4</th>\n",
       "      <td>75c8d024</td>\n",
       "      <td>0.789499</td>\n",
       "      <td>0.824967</td>\n",
       "      <td>183.857753</td>\n",
       "      <td>True</td>\n",
       "      <td>NaN</td>\n",
       "      <td>NaN</td>\n",
       "      <td>1</td>\n",
       "      <td>334019abb50241f190bdb577dbb8d7d9</td>\n",
       "      <td>2020-10-07_06-56-31</td>\n",
       "      <td>...</td>\n",
       "      <td>lambda1</td>\n",
       "      <td>140.221.79.11</td>\n",
       "      <td>183.857753</td>\n",
       "      <td>0</td>\n",
       "      <td>1</td>\n",
       "      <td>5_batch_size=482,dropout=0.46562,epochs=77,lea...</td>\n",
       "      <td>0.078481</td>\n",
       "      <td>0.465621</td>\n",
       "      <td>77</td>\n",
       "      <td>482</td>\n",
       "    </tr>\n",
       "  </tbody>\n",
       "</table>\n",
       "<p>5 rows × 23 columns</p>\n",
       "</div>"
      ],
      "text/plain": [
       "   trial_id  robust_acc  test_loss  time_this_iter_s  done  timesteps_total  \\\n",
       "0  75c8d020    0.100000   2.194781        185.388086  True              NaN   \n",
       "1  75c8d021    0.494774   1.319409        137.880242  True              NaN   \n",
       "2  75c8d022    0.843217   0.576142        141.170249  True              NaN   \n",
       "3  75c8d023    0.837526   0.535381        180.085378  True              NaN   \n",
       "4  75c8d024    0.789499   0.824967        183.857753  True              NaN   \n",
       "\n",
       "   episodes_total  training_iteration                     experiment_id  \\\n",
       "0             NaN                   1  a6c78786292d4ce1834afce5ebccec6b   \n",
       "1             NaN                   1  93d6917038884b2a80818432b949f2b0   \n",
       "2             NaN                   1  2d2dfd885bcf4b5497554928a9f5ffa4   \n",
       "3             NaN                   1  9dcba5cccff14a769c455a2cea3bc8ee   \n",
       "4             NaN                   1  334019abb50241f190bdb577dbb8d7d9   \n",
       "\n",
       "                  date  ...  hostname        node_ip  time_since_restore  \\\n",
       "0  2020-10-07_06-56-33  ...   lambda1  140.221.79.11          185.388086   \n",
       "1  2020-10-07_06-55-45  ...   lambda1  140.221.79.11          137.880242   \n",
       "2  2020-10-07_06-55-49  ...   lambda1  140.221.79.11          141.170249   \n",
       "3  2020-10-07_06-56-27  ...   lambda1  140.221.79.11          180.085378   \n",
       "4  2020-10-07_06-56-31  ...   lambda1  140.221.79.11          183.857753   \n",
       "\n",
       "  timesteps_since_restore iterations_since_restore  \\\n",
       "0                       0                        1   \n",
       "1                       0                        1   \n",
       "2                       0                        1   \n",
       "3                       0                        1   \n",
       "4                       0                        1   \n",
       "\n",
       "                                      experiment_tag  config.learning_rate  \\\n",
       "0  1_batch_size=480,dropout=0.86242,epochs=89,lea...              0.091996   \n",
       "1  2_batch_size=574,dropout=0.74806,epochs=58,lea...              0.082690   \n",
       "2  3_batch_size=943,dropout=0.70294,epochs=69,lea...              0.065899   \n",
       "3  4_batch_size=633,dropout=0.50343,epochs=77,lea...              0.073180   \n",
       "4  5_batch_size=482,dropout=0.46562,epochs=77,lea...              0.078481   \n",
       "\n",
       "   config.dropout config.epochs  config.batch_size  \n",
       "0        0.862424            89                480  \n",
       "1        0.748062            58                574  \n",
       "2        0.702941            69                943  \n",
       "3        0.503429            77                633  \n",
       "4        0.465621            77                482  \n",
       "\n",
       "[5 rows x 23 columns]"
      ]
     },
     "execution_count": 3,
     "metadata": {},
     "output_type": "execute_result"
    }
   ],
   "source": [
    "tf_results.head()"
   ]
  },
  {
   "cell_type": "code",
   "execution_count": 4,
   "metadata": {},
   "outputs": [],
   "source": [
    "pt_results = pd.read_csv('pt_fool_saltandpepper.csv')"
   ]
  },
  {
   "cell_type": "code",
   "execution_count": 5,
   "metadata": {},
   "outputs": [],
   "source": [
    "from sklearn.decomposition import PCA\n",
    "pca = PCA(n_components=1)"
   ]
  },
  {
   "cell_type": "code",
   "execution_count": 6,
   "metadata": {},
   "outputs": [],
   "source": [
    "tf_results['pca'] = pca.fit_transform(tf_results[['config.learning_rate', 'config.dropout', 'config.epochs', 'config.batch_size']])"
   ]
  },
  {
   "cell_type": "code",
   "execution_count": 7,
   "metadata": {},
   "outputs": [],
   "source": [
    "pca = PCA(n_components=1)"
   ]
  },
  {
   "cell_type": "code",
   "execution_count": 8,
   "metadata": {},
   "outputs": [],
   "source": [
    "pt_results['pca'] = pca.fit_transform(pt_results[['config.learning_rate', 'config.dropout', 'config.epochs', 'config.batch_size']])"
   ]
  },
  {
   "cell_type": "code",
   "execution_count": 10,
   "metadata": {},
   "outputs": [
    {
     "data": {
      "image/png": "[encoded data removed]",
      "text/plain": [
       "<Figure size 432x288 with 1 Axes>"
      ]
     },
     "metadata": {
      "needs_background": "light"
     },
     "output_type": "display_data"
    }
   ],
   "source": [
    "ax = plt.gca()\n",
    "ax.scatter(tf_results['pca'], tf_results['robust_acc'], color=\"red\", label=\"TensorFlow\")\n",
    "ax.scatter(pt_results['pca'], pt_results['robust_acc'], color=\"blue\", label=\"PyTorch\")\n",
    "ax.set_title(\"Salt and Pepper Noise - Robust Accuracy Based on Hyperparameters\")\n",
    "ax.set_xlabel(\"PCA of Hyperparameters\")\n",
    "ax.set_ylabel(\"Robust Accuracy\")\n",
    "ax.legend()\n",
    "plt.show()"
   ]
  },
  {
   "cell_type": "code",
   "execution_count": null,
   "metadata": {},
   "outputs": [],
   "source": []
  }
 ],
 "metadata": {
  "kernelspec": {
   "display_name": "Python 3",
   "language": "python",
   "name": "python3"
  },
  "language_info": {
   "codemirror_mode": {
    "name": "ipython",
    "version": 3
   },
   "file_extension": ".py",
   "mimetype": "text/x-python",
   "name": "python",
   "nbconvert_exporter": "python",
   "pygments_lexer": "ipython3",
   "version": "3.8.5"
  }
 },
 "nbformat": 4,
 "nbformat_minor": 4
}
