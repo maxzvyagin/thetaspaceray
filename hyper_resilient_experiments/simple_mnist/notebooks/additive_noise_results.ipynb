{
 "cells": [
  {
   "cell_type": "code",
   "execution_count": 1,
   "metadata": {},
   "outputs": [],
   "source": [
    "import pandas as pd\n",
    "import matplotlib.pyplot as plt"
   ]
  },
  {
   "cell_type": "code",
   "execution_count": 2,
   "metadata": {},
   "outputs": [],
   "source": [
    "tf_results = pd.read_csv('tf_fool_res.csv')"
   ]
  },
  {
   "cell_type": "code",
   "execution_count": 3,
   "metadata": {},
   "outputs": [
    {
     "data": {
      "text/html": [
       "<div>\n",
       "<style scoped>\n",
       "    .dataframe tbody tr th:only-of-type {\n",
       "        vertical-align: middle;\n",
       "    }\n",
       "\n",
       "    .dataframe tbody tr th {\n",
       "        vertical-align: top;\n",
       "    }\n",
       "\n",
       "    .dataframe thead th {\n",
       "        text-align: right;\n",
       "    }\n",
       "</style>\n",
       "<table border=\"1\" class=\"dataframe\">\n",
       "  <thead>\n",
       "    <tr style=\"text-align: right;\">\n",
       "      <th></th>\n",
       "      <th>trial_id</th>\n",
       "      <th>robust_acc</th>\n",
       "      <th>time_this_iter_s</th>\n",
       "      <th>done</th>\n",
       "      <th>timesteps_total</th>\n",
       "      <th>episodes_total</th>\n",
       "      <th>training_iteration</th>\n",
       "      <th>experiment_id</th>\n",
       "      <th>date</th>\n",
       "      <th>timestamp</th>\n",
       "      <th>...</th>\n",
       "      <th>hostname</th>\n",
       "      <th>node_ip</th>\n",
       "      <th>time_since_restore</th>\n",
       "      <th>timesteps_since_restore</th>\n",
       "      <th>iterations_since_restore</th>\n",
       "      <th>experiment_tag</th>\n",
       "      <th>config.learning_rate</th>\n",
       "      <th>config.dropout</th>\n",
       "      <th>config.epochs</th>\n",
       "      <th>config.batch_size</th>\n",
       "    </tr>\n",
       "  </thead>\n",
       "  <tbody>\n",
       "    <tr>\n",
       "      <th>0</th>\n",
       "      <td>456f6ed4</td>\n",
       "      <td>0.885585</td>\n",
       "      <td>0.471542</td>\n",
       "      <td>True</td>\n",
       "      <td>NaN</td>\n",
       "      <td>NaN</td>\n",
       "      <td>2</td>\n",
       "      <td>347b3f6d4098470daa3bbdfa8831ec17</td>\n",
       "      <td>2020-10-06_13-36-06</td>\n",
       "      <td>1602016566</td>\n",
       "      <td>...</td>\n",
       "      <td>lambda1</td>\n",
       "      <td>140.221.79.11</td>\n",
       "      <td>116.879289</td>\n",
       "      <td>0</td>\n",
       "      <td>2</td>\n",
       "      <td>1_batch_size=476,dropout=0.68021,epochs=74,lea...</td>\n",
       "      <td>0.044517</td>\n",
       "      <td>0.680206</td>\n",
       "      <td>74</td>\n",
       "      <td>476</td>\n",
       "    </tr>\n",
       "    <tr>\n",
       "      <th>1</th>\n",
       "      <td>456f6ed5</td>\n",
       "      <td>0.485588</td>\n",
       "      <td>1.703615</td>\n",
       "      <td>True</td>\n",
       "      <td>NaN</td>\n",
       "      <td>NaN</td>\n",
       "      <td>2</td>\n",
       "      <td>06018052def64d6b8052425e95374f6f</td>\n",
       "      <td>2020-10-06_13-35-52</td>\n",
       "      <td>1602016552</td>\n",
       "      <td>...</td>\n",
       "      <td>lambda1</td>\n",
       "      <td>140.221.79.11</td>\n",
       "      <td>102.839213</td>\n",
       "      <td>0</td>\n",
       "      <td>2</td>\n",
       "      <td>2_batch_size=435,dropout=0.89571,epochs=55,lea...</td>\n",
       "      <td>0.050067</td>\n",
       "      <td>0.895706</td>\n",
       "      <td>55</td>\n",
       "      <td>435</td>\n",
       "    </tr>\n",
       "    <tr>\n",
       "      <th>2</th>\n",
       "      <td>456f6ed6</td>\n",
       "      <td>0.902360</td>\n",
       "      <td>6.123099</td>\n",
       "      <td>True</td>\n",
       "      <td>NaN</td>\n",
       "      <td>NaN</td>\n",
       "      <td>2</td>\n",
       "      <td>8fcdf48f35ba49bbaa4e08d6ca4c6137</td>\n",
       "      <td>2020-10-06_13-35-24</td>\n",
       "      <td>1602016524</td>\n",
       "      <td>...</td>\n",
       "      <td>lambda1</td>\n",
       "      <td>140.221.79.11</td>\n",
       "      <td>74.953371</td>\n",
       "      <td>0</td>\n",
       "      <td>2</td>\n",
       "      <td>3_batch_size=906,dropout=0.67338,epochs=49,lea...</td>\n",
       "      <td>0.043194</td>\n",
       "      <td>0.673383</td>\n",
       "      <td>49</td>\n",
       "      <td>906</td>\n",
       "    </tr>\n",
       "    <tr>\n",
       "      <th>3</th>\n",
       "      <td>456f6ed7</td>\n",
       "      <td>0.896333</td>\n",
       "      <td>2.069999</td>\n",
       "      <td>True</td>\n",
       "      <td>NaN</td>\n",
       "      <td>NaN</td>\n",
       "      <td>2</td>\n",
       "      <td>3415afb9e41e446483b46a210b743981</td>\n",
       "      <td>2020-10-06_13-35-51</td>\n",
       "      <td>1602016551</td>\n",
       "      <td>...</td>\n",
       "      <td>lambda1</td>\n",
       "      <td>140.221.79.11</td>\n",
       "      <td>102.119095</td>\n",
       "      <td>0</td>\n",
       "      <td>2</td>\n",
       "      <td>4_batch_size=860,dropout=0.46823,epochs=70,lea...</td>\n",
       "      <td>0.086927</td>\n",
       "      <td>0.468228</td>\n",
       "      <td>70</td>\n",
       "      <td>860</td>\n",
       "    </tr>\n",
       "    <tr>\n",
       "      <th>4</th>\n",
       "      <td>456f6ed8</td>\n",
       "      <td>0.850485</td>\n",
       "      <td>2.026856</td>\n",
       "      <td>True</td>\n",
       "      <td>NaN</td>\n",
       "      <td>NaN</td>\n",
       "      <td>2</td>\n",
       "      <td>605ba38afdc34d8fab0e1fd7e399a37a</td>\n",
       "      <td>2020-10-06_13-35-59</td>\n",
       "      <td>1602016559</td>\n",
       "      <td>...</td>\n",
       "      <td>lambda1</td>\n",
       "      <td>140.221.79.11</td>\n",
       "      <td>109.738630</td>\n",
       "      <td>0</td>\n",
       "      <td>2</td>\n",
       "      <td>5_batch_size=444,dropout=0.64795,epochs=69,lea...</td>\n",
       "      <td>0.054323</td>\n",
       "      <td>0.647953</td>\n",
       "      <td>69</td>\n",
       "      <td>444</td>\n",
       "    </tr>\n",
       "  </tbody>\n",
       "</table>\n",
       "<p>5 rows × 22 columns</p>\n",
       "</div>"
      ],
      "text/plain": [
       "   trial_id  robust_acc  time_this_iter_s  done  timesteps_total  \\\n",
       "0  456f6ed4    0.885585          0.471542  True              NaN   \n",
       "1  456f6ed5    0.485588          1.703615  True              NaN   \n",
       "2  456f6ed6    0.902360          6.123099  True              NaN   \n",
       "3  456f6ed7    0.896333          2.069999  True              NaN   \n",
       "4  456f6ed8    0.850485          2.026856  True              NaN   \n",
       "\n",
       "   episodes_total  training_iteration                     experiment_id  \\\n",
       "0             NaN                   2  347b3f6d4098470daa3bbdfa8831ec17   \n",
       "1             NaN                   2  06018052def64d6b8052425e95374f6f   \n",
       "2             NaN                   2  8fcdf48f35ba49bbaa4e08d6ca4c6137   \n",
       "3             NaN                   2  3415afb9e41e446483b46a210b743981   \n",
       "4             NaN                   2  605ba38afdc34d8fab0e1fd7e399a37a   \n",
       "\n",
       "                  date   timestamp  ...  hostname        node_ip  \\\n",
       "0  2020-10-06_13-36-06  1602016566  ...   lambda1  140.221.79.11   \n",
       "1  2020-10-06_13-35-52  1602016552  ...   lambda1  140.221.79.11   \n",
       "2  2020-10-06_13-35-24  1602016524  ...   lambda1  140.221.79.11   \n",
       "3  2020-10-06_13-35-51  1602016551  ...   lambda1  140.221.79.11   \n",
       "4  2020-10-06_13-35-59  1602016559  ...   lambda1  140.221.79.11   \n",
       "\n",
       "  time_since_restore timesteps_since_restore  iterations_since_restore  \\\n",
       "0         116.879289                       0                         2   \n",
       "1         102.839213                       0                         2   \n",
       "2          74.953371                       0                         2   \n",
       "3         102.119095                       0                         2   \n",
       "4         109.738630                       0                         2   \n",
       "\n",
       "                                      experiment_tag  config.learning_rate  \\\n",
       "0  1_batch_size=476,dropout=0.68021,epochs=74,lea...              0.044517   \n",
       "1  2_batch_size=435,dropout=0.89571,epochs=55,lea...              0.050067   \n",
       "2  3_batch_size=906,dropout=0.67338,epochs=49,lea...              0.043194   \n",
       "3  4_batch_size=860,dropout=0.46823,epochs=70,lea...              0.086927   \n",
       "4  5_batch_size=444,dropout=0.64795,epochs=69,lea...              0.054323   \n",
       "\n",
       "  config.dropout  config.epochs  config.batch_size  \n",
       "0       0.680206             74                476  \n",
       "1       0.895706             55                435  \n",
       "2       0.673383             49                906  \n",
       "3       0.468228             70                860  \n",
       "4       0.647953             69                444  \n",
       "\n",
       "[5 rows x 22 columns]"
      ]
     },
     "execution_count": 3,
     "metadata": {},
     "output_type": "execute_result"
    }
   ],
   "source": [
    "tf_results.head()"
   ]
  },
  {
   "cell_type": "code",
   "execution_count": 4,
   "metadata": {},
   "outputs": [],
   "source": [
    "pt_results = pd.read_csv('pt_fool_res.csv')"
   ]
  },
  {
   "cell_type": "code",
   "execution_count": 5,
   "metadata": {},
   "outputs": [],
   "source": [
    "from sklearn.decomposition import PCA\n",
    "pca = PCA(n_components=1)"
   ]
  },
  {
   "cell_type": "code",
   "execution_count": 6,
   "metadata": {},
   "outputs": [],
   "source": [
    "tf_results['pca'] = pca.fit_transform(tf_results[['config.learning_rate', 'config.dropout', 'config.epochs', 'config.batch_size']])"
   ]
  },
  {
   "cell_type": "code",
   "execution_count": 7,
   "metadata": {},
   "outputs": [],
   "source": [
    "pca = PCA(n_components=1)"
   ]
  },
  {
   "cell_type": "code",
   "execution_count": 8,
   "metadata": {},
   "outputs": [],
   "source": [
    "pt_results['pca'] = pca.fit_transform(pt_results[['config.learning_rate', 'config.dropout', 'config.epochs', 'config.batch_size']])"
   ]
  },
  {
   "cell_type": "code",
   "execution_count": 9,
   "metadata": {},
   "outputs": [
    {
     "data": {
      "image/png": "[encoded data removed]",
      "text/plain": [
       "<Figure size 432x288 with 1 Axes>"
      ]
     },
     "metadata": {
      "needs_background": "light"
     },
     "output_type": "display_data"
    }
   ],
   "source": [
    "ax = plt.gca()\n",
    "ax.scatter(tf_results['pca'], tf_results['robust_acc'], color=\"red\", label=\"TensorFlow\")\n",
    "ax.scatter(pt_results['pca'], pt_results['robust_acc'], color=\"blue\", label=\"PyTorch\")\n",
    "ax.set_title(\"Additive Noise - Robust Accuracy Based on Hyperparameters\")\n",
    "ax.set_xlabel(\"PCA of Hyperparameters\")\n",
    "ax.set_ylabel(\"Robust Accuracy\")\n",
    "ax.legend()\n",
    "plt.show()"
   ]
  },
  {
   "cell_type": "code",
   "execution_count": null,
   "metadata": {},
   "outputs": [],
   "source": []
  }
 ],
 "metadata": {
  "kernelspec": {
   "display_name": "Python 3",
   "language": "python",
   "name": "python3"
  },
  "language_info": {
   "codemirror_mode": {
    "name": "ipython",
    "version": 3
   },
   "file_extension": ".py",
   "mimetype": "text/x-python",
   "name": "python",
   "nbconvert_exporter": "python",
   "pygments_lexer": "ipython3",
   "version": "3.8.5"
  }
 },
 "nbformat": 4,
 "nbformat_minor": 4
}
