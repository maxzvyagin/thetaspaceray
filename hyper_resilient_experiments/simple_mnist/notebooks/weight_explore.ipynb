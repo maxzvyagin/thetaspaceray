{
 "cells": [
  {
   "cell_type": "markdown",
   "metadata": {},
   "source": [
    "### Weight Visualization\n",
    "In this notebook, code trains models in two different frameworks on MNIST data, and creates a visualization showing how the weight distributions end up being different in the two models, even with the exact same hyperparameters and dataset. "
   ]
  },
  {
   "cell_type": "code",
   "execution_count": 16,
   "metadata": {},
   "outputs": [
    {
     "name": "stdout",
     "output_type": "stream",
     "text": [
      "Collecting palettable\n",
      "  Downloading palettable-3.3.0-py2.py3-none-any.whl (111 kB)\n",
      "\u001b[K     |████████████████████████████████| 111 kB 1.2 MB/s eta 0:00:01\n",
      "\u001b[?25hInstalling collected packages: palettable\n",
      "Successfully installed palettable-3.3.0\n"
     ]
    }
   ],
   "source": [
    "!pip install palettable"
   ]
  },
  {
   "cell_type": "code",
   "execution_count": 119,
   "metadata": {},
   "outputs": [],
   "source": [
    "import tensorflow as tf\n",
    "import torch\n",
    "import torchvision\n",
    "import pytorch_lightning as pl\n",
    "from torch import nn\n",
    "import statistics\n",
    "import VisualizeNN as VisNN\n",
    "import matplotlib.pyplot as plt\n",
    "import numpy as np"
   ]
  },
  {
   "cell_type": "code",
   "execution_count": 2,
   "metadata": {},
   "outputs": [],
   "source": [
    "config = {'learning_rate': .001, 'dropout': 0.2, 'batch_size': 64, 'epochs': 25}"
   ]
  },
  {
   "cell_type": "code",
   "execution_count": 3,
   "metadata": {},
   "outputs": [
    {
     "name": "stdout",
     "output_type": "stream",
     "text": [
      "Epoch 1/25\n",
      "938/938 [==============================] - 1s 1ms/step - loss: 0.3432 - accuracy: 0.9013\n",
      "Epoch 2/25\n",
      "938/938 [==============================] - 1s 1ms/step - loss: 0.1655 - accuracy: 0.9515\n",
      "Epoch 3/25\n",
      "938/938 [==============================] - 1s 1ms/step - loss: 0.1226 - accuracy: 0.9640\n",
      "Epoch 4/25\n",
      "938/938 [==============================] - 1s 1ms/step - loss: 0.1003 - accuracy: 0.9694\n",
      "Epoch 5/25\n",
      "938/938 [==============================] - 1s 1ms/step - loss: 0.0865 - accuracy: 0.9737\n",
      "Epoch 6/25\n",
      "938/938 [==============================] - 1s 1ms/step - loss: 0.0740 - accuracy: 0.9772\n",
      "Epoch 7/25\n",
      "938/938 [==============================] - 1s 1ms/step - loss: 0.0638 - accuracy: 0.9804\n",
      "Epoch 8/25\n",
      "938/938 [==============================] - 1s 1ms/step - loss: 0.0586 - accuracy: 0.9814\n",
      "Epoch 9/25\n",
      "938/938 [==============================] - 1s 1ms/step - loss: 0.0515 - accuracy: 0.9833\n",
      "Epoch 10/25\n",
      "938/938 [==============================] - 1s 1ms/step - loss: 0.0490 - accuracy: 0.9842\n",
      "Epoch 11/25\n",
      "938/938 [==============================] - 1s 1ms/step - loss: 0.0423 - accuracy: 0.9865\n",
      "Epoch 12/25\n",
      "938/938 [==============================] - 1s 1ms/step - loss: 0.0412 - accuracy: 0.9864\n",
      "Epoch 13/25\n",
      "938/938 [==============================] - 1s 1ms/step - loss: 0.0388 - accuracy: 0.9872: 0s - loss: 0\n",
      "Epoch 14/25\n",
      "938/938 [==============================] - 1s 1ms/step - loss: 0.0356 - accuracy: 0.9881\n",
      "Epoch 15/25\n",
      "938/938 [==============================] - 1s 1ms/step - loss: 0.0338 - accuracy: 0.9889\n",
      "Epoch 16/25\n",
      "938/938 [==============================] - 1s 1ms/step - loss: 0.0314 - accuracy: 0.9899\n",
      "Epoch 17/25\n",
      "938/938 [==============================] - 1s 1ms/step - loss: 0.0299 - accuracy: 0.9900\n",
      "Epoch 18/25\n",
      "938/938 [==============================] - 1s 1ms/step - loss: 0.0294 - accuracy: 0.9903\n",
      "Epoch 19/25\n",
      "938/938 [==============================] - 1s 1ms/step - loss: 0.0268 - accuracy: 0.9912\n",
      "Epoch 20/25\n",
      "938/938 [==============================] - 1s 1ms/step - loss: 0.0254 - accuracy: 0.9915\n",
      "Epoch 21/25\n",
      "938/938 [==============================] - 1s 1ms/step - loss: 0.0259 - accuracy: 0.9915\n",
      "Epoch 22/25\n",
      "938/938 [==============================] - 1s 1ms/step - loss: 0.0253 - accuracy: 0.9911\n",
      "Epoch 23/25\n",
      "938/938 [==============================] - 1s 1ms/step - loss: 0.0241 - accuracy: 0.9921\n",
      "Epoch 24/25\n",
      "938/938 [==============================] - 1s 1ms/step - loss: 0.0225 - accuracy: 0.9921\n",
      "Epoch 25/25\n",
      "938/938 [==============================] - 1s 1ms/step - loss: 0.0212 - accuracy: 0.9927\n",
      "313/313 [==============================] - 0s 649us/step - loss: 0.0797 - accuracy: 0.9802\n"
     ]
    }
   ],
   "source": [
    "mnist = tf.keras.datasets.mnist\n",
    "\n",
    "(x_train, y_train),(x_test, y_test) = mnist.load_data()\n",
    "x_train, x_test = x_train / 255.0, x_test / 255.0\n",
    "\n",
    "model = tf.keras.models.Sequential([\n",
    "  tf.keras.layers.Flatten(input_shape=(28, 28)),\n",
    "  tf.keras.layers.Dense(128, activation='relu'),\n",
    "  tf.keras.layers.Dropout(config['dropout']),\n",
    "  tf.keras.layers.Dense(10, activation='softmax')\n",
    "])\n",
    "\n",
    "opt = tf.keras.optimizers.Adam(learning_rate=config['learning_rate'])\n",
    "\n",
    "model.compile(optimizer=opt,\n",
    "              loss='sparse_categorical_crossentropy',\n",
    "              metrics=['accuracy'])\n",
    "\n",
    "res = model.fit(x_train, y_train, epochs=config['epochs'], batch_size=config['batch_size'])\n",
    "res_test = model.evaluate(x_test, y_test)"
   ]
  },
  {
   "cell_type": "code",
   "execution_count": 4,
   "metadata": {},
   "outputs": [],
   "source": [
    "tf_model = model"
   ]
  },
  {
   "cell_type": "code",
   "execution_count": 13,
   "metadata": {},
   "outputs": [],
   "source": [
    "class NumberNet(pl.LightningModule):\n",
    "    def __init__(self, config):\n",
    "        super().__init__()\n",
    "        self.model = nn.Sequential(\n",
    "            nn.Flatten(), \n",
    "            nn.Linear(784, 128), \n",
    "            nn.ReLU(), \n",
    "            nn.Dropout(config['dropout']), \n",
    "            nn.Linear(128, 10)) ### no softmax because it's included in cross entropy loss\n",
    "        self.criterion = nn.CrossEntropyLoss()\n",
    "        self.config = config\n",
    "        self.test_loss = None\n",
    "    \n",
    "    def train_dataloader(self):\n",
    "        return torch.utils.data.DataLoader(torchvision.datasets.MNIST(\"~/resiliency/\", train=True, \n",
    "                                                                      transform=torchvision.transforms.ToTensor(), target_transform=None, download=True), \n",
    "                                           batch_size=int(self.config['batch_size']))\n",
    "    \n",
    "    def test_dataloader(self):\n",
    "        return torch.utils.data.DataLoader(torchvision.datasets.MNIST(\"~/resiliency/\", train=True, \n",
    "                                                                      transform=torchvision.transforms.ToTensor(), target_transform=None, download=True), \n",
    "                                           batch_size=int(self.config['batch_size']))\n",
    "    \n",
    "    def configure_optimizers(self):\n",
    "        optimizer = torch.optim.Adam(self.parameters(), lr=self.config['learning_rate'])\n",
    "        return optimizer\n",
    "    \n",
    "    def forward(self, x):\n",
    "        return self.model(x)\n",
    "    \n",
    "    def training_step(self, train_batch, batch_idx):\n",
    "        x, y = train_batch\n",
    "        logits = self.forward(x)\n",
    "        loss = self.criterion(logits, y)\n",
    "        logs = {'train_loss': loss}\n",
    "        return {'loss': loss}\n",
    "    \n",
    "    def test_step(self, test_batch, batch_idx):\n",
    "        x, y = test_batch\n",
    "        logits = self.forward(x)\n",
    "        loss = self.criterion(logits, y)\n",
    "        logs = {'test_loss': loss}\n",
    "        return {'test_loss': loss, 'logs': logs}\n",
    "    \n",
    "    def test_epoch_end(self, outputs):\n",
    "        loss = []\n",
    "        for x in outputs:\n",
    "            loss.append(float(x['test_loss']))\n",
    "        avg_loss = statistics.mean(loss)\n",
    "        tensorboard_logs = {'test_loss': avg_loss}\n",
    "        self.test_loss = avg_loss\n",
    "        return {'avg_test_loss': avg_loss, 'log': tensorboard_logs}"
   ]
  },
  {
   "cell_type": "code",
   "execution_count": 14,
   "metadata": {},
   "outputs": [
    {
     "name": "stderr",
     "output_type": "stream",
     "text": [
      "GPU available: False, used: False\n",
      "TPU available: False, using: 0 TPU cores\n",
      "\n",
      "  | Name      | Type             | Params\n",
      "-----------------------------------------------\n",
      "0 | model     | Sequential       | 101 K \n",
      "1 | criterion | CrossEntropyLoss | 0     \n"
     ]
    },
    {
     "name": "stdout",
     "output_type": "stream",
     "text": [
      "Epoch 24: 100%|██████████| 938/938 [00:12<00:00, 77.39it/s, loss=1.475, v_num=1]"
     ]
    },
    {
     "name": "stderr",
     "output_type": "stream",
     "text": [
      "Saving latest checkpoint..\n"
     ]
    },
    {
     "name": "stdout",
     "output_type": "stream",
     "text": [
      "Epoch 24: 100%|██████████| 938/938 [00:12<00:00, 77.36it/s, loss=1.475, v_num=1]\n",
      "Testing:  99%|█████████▉| 929/938 [00:05<00:00, 147.51it/s]--------------------------------------------------------------------------------\n",
      "DATALOADER:0 TEST RESULTS\n",
      "{'avg_test_loss': 1.4718197365559496, 'test_loss': 1.4718197365559496}\n",
      "--------------------------------------------------------------------------------\n",
      "Testing: 100%|██████████| 938/938 [00:05<00:00, 158.11it/s]\n"
     ]
    },
    {
     "data": {
      "text/plain": [
       "[{'test_loss': 1.4718197365559496, 'avg_test_loss': 1.4718197365559496}]"
      ]
     },
     "execution_count": 14,
     "metadata": {},
     "output_type": "execute_result"
    }
   ],
   "source": [
    "model = NumberNet(config)\n",
    "trainer = pl.Trainer(max_epochs=config['epochs'])\n",
    "trainer.fit(model)\n",
    "trainer.test(model)"
   ]
  },
  {
   "cell_type": "code",
   "execution_count": 18,
   "metadata": {},
   "outputs": [],
   "source": [
    "pt_model = model"
   ]
  },
  {
   "cell_type": "markdown",
   "metadata": {},
   "source": [
    "### Visualize\n",
    "Now that we have two trained models, perform the weight visualization of the architecture"
   ]
  },
  {
   "cell_type": "code",
   "execution_count": 30,
   "metadata": {},
   "outputs": [
    {
     "name": "stdout",
     "output_type": "stream",
     "text": [
      "Model: \"sequential\"\n",
      "_________________________________________________________________\n",
      "Layer (type)                 Output Shape              Param #   \n",
      "=================================================================\n",
      "flatten (Flatten)            (None, 784)               0         \n",
      "_________________________________________________________________\n",
      "dense (Dense)                (None, 128)               100480    \n",
      "_________________________________________________________________\n",
      "dropout (Dropout)            (None, 128)               0         \n",
      "_________________________________________________________________\n",
      "dense_1 (Dense)              (None, 10)                1290      \n",
      "=================================================================\n",
      "Total params: 101,770\n",
      "Trainable params: 101,770\n",
      "Non-trainable params: 0\n",
      "_________________________________________________________________\n"
     ]
    }
   ],
   "source": [
    "tf_model.summary()"
   ]
  },
  {
   "cell_type": "code",
   "execution_count": 33,
   "metadata": {},
   "outputs": [
    {
     "data": {
      "text/plain": [
       "NumberNet(\n",
       "  (model): Sequential(\n",
       "    (0): Flatten()\n",
       "    (1): Linear(in_features=784, out_features=128, bias=True)\n",
       "    (2): ReLU()\n",
       "    (3): Dropout(p=0.2, inplace=False)\n",
       "    (4): Linear(in_features=128, out_features=10, bias=True)\n",
       "    (5): Softmax(dim=None)\n",
       "  )\n",
       "  (criterion): CrossEntropyLoss()\n",
       ")"
      ]
     },
     "execution_count": 33,
     "metadata": {},
     "output_type": "execute_result"
    }
   ],
   "source": [
    "pt_model"
   ]
  },
  {
   "cell_type": "code",
   "execution_count": null,
   "metadata": {},
   "outputs": [],
   "source": [
    "network=VisNN.DrawNN([784, 128, 128, 10, 10], tf_model.weights)\n",
    "#network.draw()"
   ]
  },
  {
   "cell_type": "code",
   "execution_count": 45,
   "metadata": {},
   "outputs": [
    {
     "data": {
      "text/plain": [
       "array([ 0.0262569 , -0.02749777, -0.04278727, -0.04782027,  0.04502111,\n",
       "       -0.0367741 , -0.04268319,  0.04609185,  0.00724438,  0.07384939,\n",
       "        0.00336391, -0.07717565, -0.07593407,  0.06612589,  0.06992755,\n",
       "        0.02782826,  0.04144244, -0.043245  ,  0.04122465, -0.05297097,\n",
       "        0.06403949,  0.02469369, -0.0261005 , -0.06684803,  0.06408872,\n",
       "        0.00384261, -0.07805467,  0.05406354, -0.05973009, -0.03668452,\n",
       "        0.01757627,  0.06077703, -0.04628856, -0.05451769, -0.06439541,\n",
       "       -0.01103745,  0.04991091, -0.03098516,  0.07399552,  0.02065719,\n",
       "        0.02188707,  0.01644978, -0.07666518, -0.00707532,  0.03449972,\n",
       "        0.04249237,  0.0768962 ,  0.05553008,  0.05328914,  0.05508768,\n",
       "        0.07962012,  0.08046029,  0.00848152,  0.00225144, -0.02144289,\n",
       "        0.07534172,  0.00852665,  0.03765778, -0.05368177,  0.06915311,\n",
       "       -0.03401365,  0.03742402,  0.05340052, -0.01146317, -0.03126763,\n",
       "       -0.02732142,  0.01946713,  0.03015736, -0.06038243,  0.01137377,\n",
       "        0.02376631,  0.04881708, -0.07962205,  0.07807285,  0.0394545 ,\n",
       "       -0.0636733 ,  0.0310821 ,  0.04862656, -0.07154707,  0.03884948,\n",
       "        0.07959621, -0.00848162,  0.00674151,  0.05994829, -0.06133521,\n",
       "       -0.04467391,  0.02901814,  0.02048692,  0.00106239,  0.07159507,\n",
       "        0.01677839,  0.0513931 , -0.02875004, -0.03781757,  0.01265444,\n",
       "       -0.04089335, -0.0570763 ,  0.00490764, -0.07703745, -0.03181611,\n",
       "       -0.08090302, -0.00442868, -0.0191817 ,  0.01504551, -0.03792068,\n",
       "        0.01869164,  0.06911197,  0.04404918,  0.02303223, -0.07279636,\n",
       "        0.06934654,  0.02694761,  0.04472717, -0.00202335, -0.00735053,\n",
       "       -0.06966773, -0.02836921,  0.07206728,  0.05265903,  0.02648947,\n",
       "       -0.07120116,  0.01002064,  0.00397454, -0.05563772,  0.04904728,\n",
       "        0.02211132,  0.02085251,  0.00449453], dtype=float32)"
      ]
     },
     "execution_count": 45,
     "metadata": {},
     "output_type": "execute_result"
    }
   ],
   "source": [
    "tf_model.weights[0].numpy()[0].flatten()"
   ]
  },
  {
   "cell_type": "code",
   "execution_count": 47,
   "metadata": {},
   "outputs": [],
   "source": [
    "from rasterio.plot import show"
   ]
  },
  {
   "cell_type": "code",
   "execution_count": 55,
   "metadata": {},
   "outputs": [
    {
     "data": {
      "text/plain": [
       "(784, 128)"
      ]
     },
     "execution_count": 55,
     "metadata": {},
     "output_type": "execute_result"
    }
   ],
   "source": [
    "tf_model.weights[0].numpy().shape"
   ]
  },
  {
   "cell_type": "code",
   "execution_count": 83,
   "metadata": {},
   "outputs": [
    {
     "data": {
      "image/png": "[encoded data removed]",
      "text/plain": [
       "<Figure size 432x288 with 1 Axes>"
      ]
     },
     "metadata": {
      "needs_background": "light"
     },
     "output_type": "display_data"
    },
    {
     "data": {
      "text/plain": [
       "<AxesSubplot:>"
      ]
     },
     "execution_count": 83,
     "metadata": {},
     "output_type": "execute_result"
    }
   ],
   "source": [
    "show(tf_model.weights[2].numpy().astype(float), cmap='Greys')"
   ]
  },
  {
   "cell_type": "code",
   "execution_count": 84,
   "metadata": {},
   "outputs": [
    {
     "data": {
      "image/png": "[encoded data removed]",
      "text/plain": [
       "<Figure size 432x288 with 1 Axes>"
      ]
     },
     "metadata": {
      "needs_background": "light"
     },
     "output_type": "display_data"
    },
    {
     "data": {
      "text/plain": [
       "<AxesSubplot:>"
      ]
     },
     "execution_count": 84,
     "metadata": {},
     "output_type": "execute_result"
    }
   ],
   "source": [
    "show(list(pt_model.parameters())[2].detach().numpy(), cmap=\"Greys\")"
   ]
  },
  {
   "cell_type": "code",
   "execution_count": 113,
   "metadata": {},
   "outputs": [
    {
     "data": {
      "text/plain": [
       "Text(0.5, 1.0, 'Histogram of Tensorflow Classifier Weights')"
      ]
     },
     "execution_count": 113,
     "metadata": {},
     "output_type": "execute_result"
    },
    {
     "data": {
      "image/png": "[encoded data removed]",
      "text/plain": [
       "<Figure size 432x288 with 1 Axes>"
      ]
     },
     "metadata": {
      "needs_background": "light"
     },
     "output_type": "display_data"
    }
   ],
   "source": [
    "plt.hist(tf_model.weights[0].numpy().astype(float), bins=50, histtype=\"bar\")\n",
    "plt.title(\"Histogram of Tensorflow Classifier Weights\")"
   ]
  },
  {
   "cell_type": "code",
   "execution_count": 115,
   "metadata": {},
   "outputs": [
    {
     "data": {
      "text/plain": [
       "(array([[0., 0., 0., ..., 0., 0., 0.],\n",
       "        [0., 0., 0., ..., 0., 0., 0.],\n",
       "        [0., 0., 0., ..., 0., 0., 0.],\n",
       "        ...,\n",
       "        [0., 0., 0., ..., 0., 0., 0.],\n",
       "        [0., 0., 0., ..., 0., 0., 0.],\n",
       "        [0., 0., 0., ..., 0., 0., 0.]]),\n",
       " array([-1.7855934 , -1.733014  , -1.6804345 , -1.6278551 , -1.5752755 ,\n",
       "        -1.5226961 , -1.4701166 , -1.4175372 , -1.3649577 , -1.3123783 ,\n",
       "        -1.2597989 , -1.2072194 , -1.15464   , -1.1020604 , -1.049481  ,\n",
       "        -0.9969016 , -0.9443221 , -0.89174265, -0.8391632 , -0.7865837 ,\n",
       "        -0.73400426, -0.68142486, -0.6288454 , -0.57626593, -0.52368647,\n",
       "        -0.471107  , -0.41852754, -0.36594808, -0.31336865, -0.2607892 ,\n",
       "        -0.20820972, -0.15563028, -0.10305082, -0.05047136,  0.00210809,\n",
       "         0.05468755,  0.107267  ,  0.15984645,  0.21242592,  0.26500538,\n",
       "         0.3175848 ,  0.37016428,  0.42274374,  0.4753232 ,  0.52790266,\n",
       "         0.5804821 ,  0.6330615 ,  0.685641  ,  0.73822045,  0.7907999 ,\n",
       "         0.8433794 ], dtype=float32),\n",
       " <a list of 784 BarContainer objects>)"
      ]
     },
     "execution_count": 115,
     "metadata": {},
     "output_type": "execute_result"
    },
    {
     "data": {
      "image/png": "[encoded data removed]",
      "text/plain": [
       "<Figure size 432x288 with 1 Axes>"
      ]
     },
     "metadata": {
      "needs_background": "light"
     },
     "output_type": "display_data"
    }
   ],
   "source": [
    "plt.hist(list(pt_model.parameters())[0].detach().numpy(), bins=50, histtype=\"bar\")"
   ]
  },
  {
   "cell_type": "code",
   "execution_count": 114,
   "metadata": {},
   "outputs": [
    {
     "data": {
      "text/plain": [
       "784"
      ]
     },
     "execution_count": 114,
     "metadata": {},
     "output_type": "execute_result"
    }
   ],
   "source": [
    "len(tf_model.weights[0].numpy().astype(float))"
   ]
  },
  {
   "cell_type": "code",
   "execution_count": 116,
   "metadata": {},
   "outputs": [
    {
     "data": {
      "text/plain": [
       "128"
      ]
     },
     "execution_count": 116,
     "metadata": {},
     "output_type": "execute_result"
    }
   ],
   "source": [
    "len(list(pt_model.parameters())[0].detach().numpy())"
   ]
  },
  {
   "cell_type": "code",
   "execution_count": 121,
   "metadata": {},
   "outputs": [
    {
     "data": {
      "text/plain": [
       "4"
      ]
     },
     "execution_count": 121,
     "metadata": {},
     "output_type": "execute_result"
    }
   ],
   "source": [
    "len(np.array(tf_model.weights))"
   ]
  },
  {
   "cell_type": "code",
   "execution_count": 157,
   "metadata": {},
   "outputs": [],
   "source": [
    "just_tf_weights = list()\n",
    "for w in tf_model.weights:\n",
    "    just_tf_weights.extend(w.numpy().flatten())"
   ]
  },
  {
   "cell_type": "code",
   "execution_count": 158,
   "metadata": {},
   "outputs": [
    {
     "data": {
      "text/plain": [
       "101770"
      ]
     },
     "execution_count": 158,
     "metadata": {},
     "output_type": "execute_result"
    }
   ],
   "source": [
    "just_weights = np.array(just_weights)\n",
    "len(just_weights)"
   ]
  },
  {
   "cell_type": "code",
   "execution_count": 160,
   "metadata": {},
   "outputs": [],
   "source": [
    "pt_model_weights = list(pt_model.parameters())"
   ]
  },
  {
   "cell_type": "code",
   "execution_count": 161,
   "metadata": {},
   "outputs": [],
   "source": [
    "just_pt_weights = list()\n",
    "for w in pt_model_weights:\n",
    "    just_pt_weights.extend(w.detach().numpy().flatten())"
   ]
  },
  {
   "cell_type": "code",
   "execution_count": 162,
   "metadata": {},
   "outputs": [
    {
     "data": {
      "text/plain": [
       "101770"
      ]
     },
     "execution_count": 162,
     "metadata": {},
     "output_type": "execute_result"
    }
   ],
   "source": [
    "len(just_pt_weights)"
   ]
  },
  {
   "cell_type": "code",
   "execution_count": 170,
   "metadata": {},
   "outputs": [
    {
     "data": {
      "text/plain": [
       "Text(0.5, 1.0, 'Histogram of TensorFlow Classifier Weights, bin=1000')"
      ]
     },
     "execution_count": 170,
     "metadata": {},
     "output_type": "execute_result"
    },
    {
     "data": {
      "image/png": "[encoded data removed]",
      "text/plain": [
       "<Figure size 432x288 with 1 Axes>"
      ]
     },
     "metadata": {
      "needs_background": "light"
     },
     "output_type": "display_data"
    }
   ],
   "source": [
    "plt.hist(just_tf_weights, bins=1000)\n",
    "plt.title(\"Histogram of TensorFlow Classifier Weights, bin=1000\")"
   ]
  },
  {
   "cell_type": "code",
   "execution_count": 171,
   "metadata": {},
   "outputs": [
    {
     "data": {
      "text/plain": [
       "Text(0.5, 1.0, 'Histogram of PyTorch Classifier Weights, bin=1000')"
      ]
     },
     "execution_count": 171,
     "metadata": {},
     "output_type": "execute_result"
    },
    {
     "data": {
      "image/png": "[encoded data removed]",
      "text/plain": [
       "<Figure size 432x288 with 1 Axes>"
      ]
     },
     "metadata": {
      "needs_background": "light"
     },
     "output_type": "display_data"
    }
   ],
   "source": [
    "plt.hist(just_pt_weights, bins=1000)\n",
    "plt.title(\"Histogram of PyTorch Classifier Weights, bin=1000\")"
   ]
  },
  {
   "cell_type": "markdown",
   "metadata": {},
   "source": [
    "### KL Divergence Comparison of Model Weights"
   ]
  },
  {
   "cell_type": "code",
   "execution_count": 172,
   "metadata": {},
   "outputs": [],
   "source": [
    "from math import log2\n",
    " \n",
    "# calculate the kl divergence\n",
    "def kl_divergence(p, q):\n",
    "\treturn sum(p[i] * log2(p[i]/q[i]) for i in range(len(p)))"
   ]
  },
  {
   "cell_type": "code",
   "execution_count": 186,
   "metadata": {},
   "outputs": [],
   "source": [
    "from sklearn.preprocessing import MinMaxScaler"
   ]
  },
  {
   "cell_type": "code",
   "execution_count": 207,
   "metadata": {},
   "outputs": [],
   "source": [
    "tf_weights_scaled = MinMaxScaler().fit_transform(np.array(just_tf_weights).reshape(-1, 1))+1\n",
    "pt_weights_scaled = MinMaxScaler().fit_transform(np.array(just_pt_weights).reshape(-1, 1))+1"
   ]
  },
  {
   "cell_type": "code",
   "execution_count": 208,
   "metadata": {},
   "outputs": [
    {
     "data": {
      "text/plain": [
       "array([-13697.119], dtype=float32)"
      ]
     },
     "execution_count": 208,
     "metadata": {},
     "output_type": "execute_result"
    }
   ],
   "source": [
    "kl_divergence(tf_weights_scaled, pt_weights_scaled)"
   ]
  },
  {
   "cell_type": "code",
   "execution_count": 210,
   "metadata": {},
   "outputs": [
    {
     "data": {
      "text/plain": [
       "1.0"
      ]
     },
     "execution_count": 210,
     "metadata": {},
     "output_type": "execute_result"
    }
   ],
   "source": [
    "tf_weights_scaled.min()"
   ]
  },
  {
   "cell_type": "code",
   "execution_count": 211,
   "metadata": {},
   "outputs": [
    {
     "data": {
      "text/plain": [
       "array([0.], dtype=float32)"
      ]
     },
     "execution_count": 211,
     "metadata": {},
     "output_type": "execute_result"
    }
   ],
   "source": [
    "kl_divergence(tf_weights_scaled, tf_weights_scaled)"
   ]
  },
  {
   "cell_type": "code",
   "execution_count": 212,
   "metadata": {},
   "outputs": [
    {
     "name": "stderr",
     "output_type": "stream",
     "text": [
      "GPU available: False, used: False\n",
      "TPU available: False, using: 0 TPU cores\n",
      "/Users/mzvyagin/miniconda3/envs/resiliency/lib/python3.8/site-packages/pytorch_lightning/utilities/distributed.py:37: UserWarning: Could not log computational graph since the `model.example_input_array` attribute is not set or `input_array` was not given\n",
      "  warnings.warn(*args, **kwargs)\n",
      "\n",
      "  | Name      | Type             | Params\n",
      "-----------------------------------------------\n",
      "0 | model     | Sequential       | 101 K \n",
      "1 | criterion | CrossEntropyLoss | 0     \n"
     ]
    },
    {
     "name": "stdout",
     "output_type": "stream",
     "text": [
      "Epoch 0:   0%|          | 2/938 [00:00<00:35, 26.17it/s, loss=2.301, v_num=2]"
     ]
    },
    {
     "name": "stderr",
     "output_type": "stream",
     "text": [
      "/Users/mzvyagin/miniconda3/envs/resiliency/lib/python3.8/site-packages/pytorch_lightning/utilities/distributed.py:37: UserWarning: The dataloader, train dataloader, does not have many workers which may be a bottleneck. Consider increasing the value of the `num_workers` argument` (try 8 which is the number of cpus on this machine) in the `DataLoader` init to improve performance.\n",
      "  warnings.warn(*args, **kwargs)\n",
      "/Users/mzvyagin/miniconda3/envs/resiliency/lib/python3.8/site-packages/torch/nn/modules/container.py:117: UserWarning: Implicit dimension choice for softmax has been deprecated. Change the call to include dim=X as an argument.\n",
      "  input = module(input)\n"
     ]
    },
    {
     "name": "stdout",
     "output_type": "stream",
     "text": [
      "Epoch 24: 100%|██████████| 938/938 [00:09<00:00, 93.83it/s, loss=1.473, v_num=2]"
     ]
    },
    {
     "name": "stderr",
     "output_type": "stream",
     "text": [
      "Saving latest checkpoint..\n"
     ]
    },
    {
     "name": "stdout",
     "output_type": "stream",
     "text": [
      "Epoch 24: 100%|██████████| 938/938 [00:09<00:00, 93.81it/s, loss=1.473, v_num=2]\n",
      "Testing:   2%|▏         | 18/938 [00:00<00:05, 173.03it/s]"
     ]
    },
    {
     "name": "stderr",
     "output_type": "stream",
     "text": [
      "/Users/mzvyagin/miniconda3/envs/resiliency/lib/python3.8/site-packages/pytorch_lightning/utilities/distributed.py:37: UserWarning: The dataloader, test dataloader 0, does not have many workers which may be a bottleneck. Consider increasing the value of the `num_workers` argument` (try 8 which is the number of cpus on this machine) in the `DataLoader` init to improve performance.\n",
      "  warnings.warn(*args, **kwargs)\n"
     ]
    },
    {
     "name": "stdout",
     "output_type": "stream",
     "text": [
      "Testing: 100%|█████████▉| 934/938 [00:06<00:00, 136.00it/s]--------------------------------------------------------------------------------\n",
      "DATALOADER:0 TEST RESULTS\n",
      "{'avg_test_loss': 1.4713487130746659, 'test_loss': 1.4713487130746659}\n",
      "--------------------------------------------------------------------------------\n",
      "Testing: 100%|██████████| 938/938 [00:06<00:00, 145.34it/s]\n"
     ]
    },
    {
     "data": {
      "text/plain": [
       "[{'test_loss': 1.4713487130746659, 'avg_test_loss': 1.4713487130746659}]"
      ]
     },
     "execution_count": 212,
     "metadata": {},
     "output_type": "execute_result"
    }
   ],
   "source": [
    "pt_model_2 = NumberNet(config)\n",
    "trainer = pl.Trainer(max_epochs=config['epochs'])\n",
    "trainer.fit(pt_model_2)\n",
    "trainer.test(pt_model_2)"
   ]
  },
  {
   "cell_type": "code",
   "execution_count": null,
   "metadata": {},
   "outputs": [],
   "source": [
    "just_pt_weights_2 = list()\n",
    "for w in list(pt_model_2.parameters()):\n",
    "    just_pt_weights_2.extend(w.detach().numpy().flatten())\n",
    "pt_weights_2_scaled = MinMaxScaler().fit_transform(just_pt_weights_2)\n",
    "kl_divergence(pt_weights_scaled, pt_weights_2_scaled)"
   ]
  }
 ],
 "metadata": {
  "kernelspec": {
   "display_name": "Python 3",
   "language": "python",
   "name": "python3"
  },
  "language_info": {
   "codemirror_mode": {
    "name": "ipython",
    "version": 3
   },
   "file_extension": ".py",
   "mimetype": "text/x-python",
   "name": "python",
   "nbconvert_exporter": "python",
   "pygments_lexer": "ipython3",
   "version": "3.8.5"
  }
 },
 "nbformat": 4,
 "nbformat_minor": 4
}
