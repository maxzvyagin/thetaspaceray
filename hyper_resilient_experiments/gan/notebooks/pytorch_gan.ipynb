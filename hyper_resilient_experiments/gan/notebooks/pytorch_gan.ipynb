{
 "cells": [
  {
   "cell_type": "markdown",
   "metadata": {},
   "source": [
    "### Development of Semantic Segmentation Models ###"
   ]
  },
  {
   "cell_type": "code",
   "execution_count": 5,
   "metadata": {},
   "outputs": [],
   "source": [
    "import torch\n",
    "import torchvision\n",
    "from torch import nn\n",
    "import torch\n",
    "import imp\n",
    "import numpy as np\n",
    "MainModel = imp.load_source('MainModel', \"/home/mzvyagin/dilation8.py\")"
   ]
  },
  {
   "cell_type": "markdown",
   "metadata": {},
   "source": [
    "### Model Setup\n",
    "- Segmentation model: Pretrained dilation8 from Fisher Yu, per paper\n",
    "- Discriminator model: "
   ]
  },
  {
   "cell_type": "code",
   "execution_count": 6,
   "metadata": {},
   "outputs": [],
   "source": [
    "# load the pytorch model from onnx\n",
    "model = torch.load('/home/mzvyagin/dilation8.pt')"
   ]
  },
  {
   "cell_type": "code",
   "execution_count": 7,
   "metadata": {},
   "outputs": [
    {
     "data": {
      "text/plain": [
       "KitModel(\n",
       "  (conv1_1): Conv2d(3, 64, kernel_size=(3, 3), stride=(1, 1))\n",
       "  (conv1_2): Conv2d(64, 64, kernel_size=(3, 3), stride=(1, 1))\n",
       "  (conv2_1): Conv2d(64, 128, kernel_size=(3, 3), stride=(1, 1))\n",
       "  (conv2_2): Conv2d(128, 128, kernel_size=(3, 3), stride=(1, 1))\n",
       "  (conv3_1): Conv2d(128, 256, kernel_size=(3, 3), stride=(1, 1))\n",
       "  (conv3_2): Conv2d(256, 256, kernel_size=(3, 3), stride=(1, 1))\n",
       "  (conv3_3): Conv2d(256, 256, kernel_size=(3, 3), stride=(1, 1))\n",
       "  (conv4_1): Conv2d(256, 512, kernel_size=(3, 3), stride=(1, 1))\n",
       "  (conv4_2): Conv2d(512, 512, kernel_size=(3, 3), stride=(1, 1))\n",
       "  (conv4_3): Conv2d(512, 512, kernel_size=(3, 3), stride=(1, 1))\n",
       "  (conv5_1): Conv2d(512, 512, kernel_size=(3, 3), stride=(1, 1))\n",
       "  (conv5_2): Conv2d(512, 512, kernel_size=(3, 3), stride=(1, 1))\n",
       "  (conv5_3): Conv2d(512, 512, kernel_size=(3, 3), stride=(1, 1))\n",
       "  (fc6): Conv2d(512, 4096, kernel_size=(7, 7), stride=(1, 1))\n",
       "  (fc7): Conv2d(4096, 4096, kernel_size=(1, 1), stride=(1, 1))\n",
       "  (fc_final): Conv2d(4096, 21, kernel_size=(1, 1), stride=(1, 1))\n",
       "  (ct_conv1_1): Conv2d(21, 42, kernel_size=(3, 3), stride=(1, 1))\n",
       "  (ct_conv1_2): Conv2d(42, 42, kernel_size=(3, 3), stride=(1, 1))\n",
       "  (ct_conv2_1): Conv2d(42, 84, kernel_size=(3, 3), stride=(1, 1))\n",
       "  (ct_conv3_1): Conv2d(84, 168, kernel_size=(3, 3), stride=(1, 1))\n",
       "  (ct_conv4_1): Conv2d(168, 336, kernel_size=(3, 3), stride=(1, 1))\n",
       "  (ct_conv5_1): Conv2d(336, 672, kernel_size=(3, 3), stride=(1, 1))\n",
       "  (ct_fc1): Conv2d(672, 672, kernel_size=(3, 3), stride=(1, 1))\n",
       "  (ct_final): Conv2d(672, 21, kernel_size=(1, 1), stride=(1, 1))\n",
       ")"
      ]
     },
     "execution_count": 7,
     "metadata": {},
     "output_type": "execute_result"
    }
   ],
   "source": [
    "model"
   ]
  },
  {
   "cell_type": "code",
   "execution_count": 11,
   "metadata": {},
   "outputs": [],
   "source": [
    "torch.save(model.state_dict(), '/home/mzvyagin/dilation8_pt_statedict.pt')"
   ]
  },
  {
   "cell_type": "code",
   "execution_count": 12,
   "metadata": {},
   "outputs": [
    {
     "data": {
      "text/plain": [
       "KitModel(\n",
       "  (conv1_1): Conv2d(3, 64, kernel_size=(3, 3), stride=(1, 1))\n",
       "  (conv1_2): Conv2d(64, 64, kernel_size=(3, 3), stride=(1, 1))\n",
       "  (conv2_1): Conv2d(64, 128, kernel_size=(3, 3), stride=(1, 1))\n",
       "  (conv2_2): Conv2d(128, 128, kernel_size=(3, 3), stride=(1, 1))\n",
       "  (conv3_1): Conv2d(128, 256, kernel_size=(3, 3), stride=(1, 1))\n",
       "  (conv3_2): Conv2d(256, 256, kernel_size=(3, 3), stride=(1, 1))\n",
       "  (conv3_3): Conv2d(256, 256, kernel_size=(3, 3), stride=(1, 1))\n",
       "  (conv4_1): Conv2d(256, 512, kernel_size=(3, 3), stride=(1, 1))\n",
       "  (conv4_2): Conv2d(512, 512, kernel_size=(3, 3), stride=(1, 1))\n",
       "  (conv4_3): Conv2d(512, 512, kernel_size=(3, 3), stride=(1, 1))\n",
       "  (conv5_1): Conv2d(512, 512, kernel_size=(3, 3), stride=(1, 1))\n",
       "  (conv5_2): Conv2d(512, 512, kernel_size=(3, 3), stride=(1, 1))\n",
       "  (conv5_3): Conv2d(512, 512, kernel_size=(3, 3), stride=(1, 1))\n",
       "  (fc6): Conv2d(512, 4096, kernel_size=(7, 7), stride=(1, 1))\n",
       "  (fc7): Conv2d(4096, 4096, kernel_size=(1, 1), stride=(1, 1))\n",
       "  (fc_final): Conv2d(4096, 21, kernel_size=(1, 1), stride=(1, 1))\n",
       "  (ct_conv1_1): Conv2d(21, 42, kernel_size=(3, 3), stride=(1, 1))\n",
       "  (ct_conv1_2): Conv2d(42, 42, kernel_size=(3, 3), stride=(1, 1))\n",
       "  (ct_conv2_1): Conv2d(42, 84, kernel_size=(3, 3), stride=(1, 1))\n",
       "  (ct_conv3_1): Conv2d(84, 168, kernel_size=(3, 3), stride=(1, 1))\n",
       "  (ct_conv4_1): Conv2d(168, 336, kernel_size=(3, 3), stride=(1, 1))\n",
       "  (ct_conv5_1): Conv2d(336, 672, kernel_size=(3, 3), stride=(1, 1))\n",
       "  (ct_fc1): Conv2d(672, 672, kernel_size=(3, 3), stride=(1, 1))\n",
       "  (ct_final): Conv2d(672, 21, kernel_size=(1, 1), stride=(1, 1))\n",
       ")"
      ]
     },
     "execution_count": 12,
     "metadata": {},
     "output_type": "execute_result"
    }
   ],
   "source": [
    "model.eval()"
   ]
  },
  {
   "cell_type": "code",
   "execution_count": null,
   "metadata": {},
   "outputs": [],
   "source": []
  }
 ],
 "metadata": {
  "kernelspec": {
   "display_name": "Python 3",
   "language": "python",
   "name": "python3"
  },
  "language_info": {
   "codemirror_mode": {
    "name": "ipython",
    "version": 3
   },
   "file_extension": ".py",
   "mimetype": "text/x-python",
   "name": "python",
   "nbconvert_exporter": "python",
   "pygments_lexer": "ipython3",
   "version": "3.8.5"
  }
 },
 "nbformat": 4,
 "nbformat_minor": 4
}
