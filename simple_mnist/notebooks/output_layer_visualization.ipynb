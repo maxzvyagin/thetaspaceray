{
 "cells": [
  {
   "cell_type": "code",
   "execution_count": 1,
   "metadata": {},
   "outputs": [],
   "source": [
    "import pandas as pd\n",
    "import matplotlib.pyplot as plt\n",
    "import torch\n",
    "import torchvision\n",
    "import tensorflow as tf\n",
    "import pytorch_lightning as pl\n",
    "from torch import nn\n",
    "import statistics\n",
    "import numpy as np"
   ]
  },
  {
   "cell_type": "code",
   "execution_count": null,
   "metadata": {},
   "outputs": [],
   "source": [
    "res = pd.read_csv('../multi_model_multi_metric_results_50samples.csv')"
   ]
  },
  {
   "cell_type": "code",
   "execution_count": null,
   "metadata": {},
   "outputs": [],
   "source": [
    "sorted_res = res.sort_values('average_res', ascending=False)\n",
    "sorted_res = sorted_res.reset_index(drop=True)"
   ]
  },
  {
   "cell_type": "code",
   "execution_count": null,
   "metadata": {},
   "outputs": [],
   "source": [
    "sorted_res"
   ]
  },
  {
   "cell_type": "code",
   "execution_count": null,
   "metadata": {},
   "outputs": [],
   "source": [
    "class NumberNet(pl.LightningModule):\n",
    "    def __init__(self, config):\n",
    "        super().__init__()\n",
    "        self.model = nn.Sequential(\n",
    "            nn.Flatten(),\n",
    "            nn.Linear(784, 128),\n",
    "            nn.ReLU(),\n",
    "            nn.Dropout(config['dropout']),\n",
    "            nn.Linear(128, 10))\n",
    "            ## nn.Softmax())\n",
    "            # not include softmax because it's included in the Cross Entropy Loss Function\n",
    "        self.criterion = nn.CrossEntropyLoss()\n",
    "        self.config = config\n",
    "        self.test_loss = None\n",
    "        self.test_accuracy = None\n",
    "        self.accuracy = pl.metrics.Accuracy()\n",
    "\n",
    "    def train_dataloader(self):\n",
    "        return torch.utils.data.DataLoader(torchvision.datasets.MNIST(\"~/resiliency/\", train=True,\n",
    "                                                                      transform=torchvision.transforms.ToTensor(),\n",
    "                                                                      target_transform=None, download=True),\n",
    "                                           batch_size=int(self.config['batch_size']))\n",
    "\n",
    "    def test_dataloader(self):\n",
    "        return torch.utils.data.DataLoader(torchvision.datasets.MNIST(\"~/resiliency/\", train=True,\n",
    "                                                                      transform=torchvision.transforms.ToTensor(),\n",
    "                                                                      target_transform=None, download=True),\n",
    "                                           batch_size=int(self.config['batch_size']))\n",
    "\n",
    "    def configure_optimizers(self):\n",
    "        optimizer = torch.optim.Adam(self.parameters(), lr=self.config['learning_rate'])\n",
    "        return optimizer\n",
    "\n",
    "    def forward(self, x):\n",
    "        return self.model(x)\n",
    "\n",
    "    def training_step(self, train_batch, batch_idx):\n",
    "        x, y = train_batch\n",
    "        logits = self.forward(x)\n",
    "        loss = self.criterion(logits, y)\n",
    "        logs = {'train_loss': loss}\n",
    "        return {'loss': loss}\n",
    "\n",
    "    def test_step(self, test_batch, batch_idx):\n",
    "        x, y = test_batch\n",
    "        logits = self.forward(x)\n",
    "        loss = self.criterion(logits, y)\n",
    "        accuracy = self.accuracy(logits, y)\n",
    "        logs = {'test_loss': loss, 'test_accuracy': accuracy}\n",
    "        return {'test_loss': loss, 'logs': logs, 'test_accuracy': accuracy}\n",
    "\n",
    "    def test_epoch_end(self, outputs):\n",
    "        loss = []\n",
    "        for x in outputs:\n",
    "            loss.append(float(x['test_loss']))\n",
    "        avg_loss = statistics.mean(loss)\n",
    "        tensorboard_logs = {'test_loss': avg_loss}\n",
    "        self.test_loss = avg_loss\n",
    "        accuracy = []\n",
    "        for x in outputs:\n",
    "            accuracy.append(float(x['test_accuracy']))\n",
    "        avg_accuracy = statistics.mean(accuracy)\n",
    "        self.test_accuracy = avg_accuracy\n",
    "        return {'avg_test_loss': avg_loss, 'log': tensorboard_logs, 'avg_test_accuracy': avg_accuracy}\n",
    "\n",
    "def mnist_pt_objective(config):\n",
    "    model = NumberNet(config)\n",
    "    trainer = pl.Trainer(max_epochs=config['epochs'])\n",
    "    trainer.fit(model)\n",
    "    trainer.test(model)\n",
    "    return (model.test_accuracy, model)\n",
    "\n",
    "\n",
    "def mnist_tf_objective(config):\n",
    "    mnist = tf.keras.datasets.mnist\n",
    "\n",
    "    (x_train, y_train), (x_test, y_test) = mnist.load_data()\n",
    "    x_train, x_test = x_train / 255.0, x_test / 255.0\n",
    "\n",
    "    model = tf.keras.models.Sequential([\n",
    "        tf.keras.layers.Flatten(input_shape=(28, 28)),\n",
    "        tf.keras.layers.Dense(128, activation='relu'),\n",
    "        tf.keras.layers.Dropout(config['dropout']),\n",
    "        tf.keras.layers.Dense(10, activation='softmax')\n",
    "    ])\n",
    "\n",
    "    opt = tf.keras.optimizers.Adam(learning_rate=config['learning_rate'])\n",
    "\n",
    "    model.compile(optimizer=opt,\n",
    "                  loss='sparse_categorical_crossentropy',\n",
    "                  metrics=['accuracy'])\n",
    "\n",
    "    res = model.fit(x_train, y_train, epochs=config['epochs'], batch_size=config['batch_size'])\n",
    "    res_test = model.evaluate(x_test, y_test)\n",
    "    return (res_test[1], model)"
   ]
  },
  {
   "cell_type": "code",
   "execution_count": null,
   "metadata": {},
   "outputs": [],
   "source": [
    "top = sorted_res.iloc[0]\n",
    "top_config = {'learning_rate':top['config.learning_rate'], 'batch_size':top['config.batch_size'], 'dropout':top['config.dropout'], 'epochs':top['config.epochs']}"
   ]
  },
  {
   "cell_type": "code",
   "execution_count": null,
   "metadata": {},
   "outputs": [],
   "source": [
    "bottom = sorted_res.iloc[-1]\n",
    "bottom_config = {'learning_rate':bottom['config.learning_rate'], 'batch_size':bottom['config.batch_size'], 'dropout':bottom['config.dropout'], 'epochs':bottom['config.epochs']}"
   ]
  },
  {
   "cell_type": "code",
   "execution_count": null,
   "metadata": {},
   "outputs": [],
   "source": [
    "top_pt_accuracy, top_pt_model = mnist_pt_objective(top_config)\n",
    "top_tf_accuracy, top_tf_model = mnist_tf_objective(top_config)"
   ]
  },
  {
   "cell_type": "code",
   "execution_count": null,
   "metadata": {},
   "outputs": [],
   "source": [
    "bottom_pt_accuracy, bottom_pt_model = mnist_pt_objective(bottom_config)\n",
    "bottom_tf_accuracy, bottom_tf_model = mnist_tf_objective(bottom_config)"
   ]
  },
  {
   "cell_type": "code",
   "execution_count": null,
   "metadata": {},
   "outputs": [],
   "source": [
    "plt.plot(list(range(10)), list(top_pt_model.parameters())[-1].detach().numpy())"
   ]
  },
  {
   "cell_type": "code",
   "execution_count": null,
   "metadata": {},
   "outputs": [],
   "source": [
    "plt.plot(list(range(10)), top_tf_model.weights[-1].numpy())"
   ]
  },
  {
   "cell_type": "code",
   "execution_count": null,
   "metadata": {},
   "outputs": [],
   "source": [
    "plt.plot(list(range(10)), list(bottom_pt_model.parameters())[-1].detach().numpy())"
   ]
  },
  {
   "cell_type": "code",
   "execution_count": null,
   "metadata": {},
   "outputs": [],
   "source": [
    "plt.plot(list(range(10)), bottom_tf_model.weights[-1].numpy())"
   ]
  },
  {
   "cell_type": "code",
   "execution_count": null,
   "metadata": {},
   "outputs": [],
   "source": [
    "ax = plt.gca()\n",
    "ax.plot(list(range(10)), list(top_pt_model.parameters())[-1].detach().numpy(), color=\"blue\", label=\"Top PyTorch\")\n",
    "ax.plot(list(range(10)), top_tf_model.weights[-1].numpy(), color=\"red\", label=\"Top TensorFlow\")\n",
    "ax.plot(list(range(10)), list(bottom_pt_model.parameters())[-1].detach().numpy(), color=\"green\", label=\"Bottom PyTorch\")\n",
    "ax.plot(list(range(10)), bottom_tf_model.weights[-1].numpy(), color=\"orange\", label=\"Bottom TensorFlow\")\n",
    "ax.set_title(\"Output Layer Weights for Best and Worst Hyperparameters\")\n",
    "ax.set_xlabel(\"Neuron Number\")\n",
    "ax.set_ylabel(\"Weight\")\n",
    "ax.legend(loc='upper center', bbox_to_anchor=(0.5, -0.20),\n",
    "          fancybox=True, shadow=True, ncol=5)\n",
    "plt.show()"
   ]
  },
  {
   "cell_type": "code",
   "execution_count": null,
   "metadata": {},
   "outputs": [],
   "source": [
    "### Repeat experiment with multiple trials, get output weights"
   ]
  },
  {
   "cell_type": "code",
   "execution_count": null,
   "metadata": {},
   "outputs": [],
   "source": [
    "top_pt, top_tf, bottom_pt, bottom_tf = [], [], [], []\n",
    "for i in range(50):\n",
    "    top_pt_accuracy, top_pt_model = mnist_pt_objective(top_config)\n",
    "    top_tf_accuracy, top_tf_model = mnist_tf_objective(top_config)\n",
    "    bottom_pt_accuracy, bottom_pt_model = mnist_pt_objective(bottom_config)\n",
    "    bottom_tf_accuracy, bottom_tf_model = mnist_tf_objective(bottom_config)\n",
    "    # get the output layer weights\n",
    "    top_pt_out = list(top_pt_model.parameters())[-1].detach().numpy()\n",
    "    top_pt.append(top_pt_out)\n",
    "    top_tf_out = top_tf_model.weights[-1].numpy()\n",
    "    top_tf.append(top_tf_out)\n",
    "    bottom_pt_out = list(bottom_pt_model.parameters())[-1].detach().numpy()\n",
    "    bottom_pt.append(bottom_pt_out)\n",
    "    bottom_tf_out = bottom_tf_model.weights[-1].numpy()\n",
    "    bottom_tf.append(bottom_tf_out)"
   ]
  },
  {
   "cell_type": "code",
   "execution_count": 96,
   "metadata": {},
   "outputs": [],
   "source": [
    "mean_top_pt = np.array(top_pt).mean(axis=0)"
   ]
  },
  {
   "cell_type": "code",
   "execution_count": 98,
   "metadata": {},
   "outputs": [],
   "source": [
    "mean_top_tf = np.array(top_tf).mean(axis=0)"
   ]
  },
  {
   "cell_type": "code",
   "execution_count": 99,
   "metadata": {},
   "outputs": [],
   "source": [
    "mean_bottom_pt = np.array(bottom_tf).mean(axis=0)"
   ]
  },
  {
   "cell_type": "code",
   "execution_count": 100,
   "metadata": {},
   "outputs": [],
   "source": [
    "mean_bottom_tf = np.array(bottom_pt).mean(axis=0)"
   ]
  },
  {
   "cell_type": "code",
   "execution_count": 101,
   "metadata": {},
   "outputs": [
    {
     "data": {
      "image/png": "[encoded data removed]",
      "text/plain": [
       "<Figure size 432x288 with 1 Axes>"
      ]
     },
     "metadata": {
      "needs_background": "light"
     },
     "output_type": "display_data"
    }
   ],
   "source": [
    "ax = plt.gca()\n",
    "ax.plot(list(range(10)), mean_top_pt, color=\"blue\", label=\"Top PyTorch\")\n",
    "ax.plot(list(range(10)), mean_top_tf, color=\"red\", label=\"Top TensorFlow\")\n",
    "ax.plot(list(range(10)), mean_bottom_pt, color=\"green\", label=\"Bottom PyTorch\")\n",
    "ax.plot(list(range(10)), mean_bottom_tf, color=\"orange\", label=\"Bottom TensorFlow\")\n",
    "ax.set_title(\"Output Layer Weights for Best and Worst Hyperparameters\")\n",
    "ax.set_xlabel(\"Neuron Number\")\n",
    "ax.set_ylabel(\"Weight\")\n",
    "ax.legend(loc='upper center', bbox_to_anchor=(0.5, -0.20),\n",
    "          fancybox=True, shadow=True, ncol=5)\n",
    "plt.show()"
   ]
  },
  {
   "cell_type": "code",
   "execution_count": 115,
   "metadata": {},
   "outputs": [
    {
     "data": {
      "text/plain": [
       "array([0.05561265, 0.0559086 , 0.06509434, 0.06800444, 0.06590966,\n",
       "       0.05530198, 0.052506  , 0.06709471, 0.05545956, 0.06077011],\n",
       "      dtype=float32)"
      ]
     },
     "execution_count": 115,
     "metadata": {},
     "output_type": "execute_result"
    }
   ],
   "source": [
    "np.array(top_pt).std(axis=0)"
   ]
  },
  {
   "cell_type": "code",
   "execution_count": 116,
   "metadata": {},
   "outputs": [
    {
     "data": {
      "text/plain": [
       "array([0.04893296, 0.05515404, 0.05572626, 0.0621965 , 0.05368591,\n",
       "       0.05521747, 0.06180924, 0.05643507, 0.0538887 , 0.04957468],\n",
       "      dtype=float32)"
      ]
     },
     "execution_count": 116,
     "metadata": {},
     "output_type": "execute_result"
    }
   ],
   "source": [
    "np.array(top_tf).std(axis=0)"
   ]
  },
  {
   "cell_type": "code",
   "execution_count": 117,
   "metadata": {},
   "outputs": [
    {
     "data": {
      "text/plain": [
       "array([0.0265768 , 0.02685711, 0.02657658, 0.02654445, 0.02655871,\n",
       "       0.02658228, 0.02656467, 0.02654975, 0.02658105, 0.02656422],\n",
       "      dtype=float32)"
      ]
     },
     "execution_count": 117,
     "metadata": {},
     "output_type": "execute_result"
    }
   ],
   "source": [
    "np.array(bottom_pt).std(axis=0)"
   ]
  },
  {
   "cell_type": "code",
   "execution_count": 118,
   "metadata": {},
   "outputs": [
    {
     "data": {
      "text/plain": [
       "array([0.14651692, 0.12447508, 0.1276609 , 0.12100063, 0.13478841,\n",
       "       0.13689716, 0.12248106, 0.12834208, 0.1491098 , 0.11949101],\n",
       "      dtype=float32)"
      ]
     },
     "execution_count": 118,
     "metadata": {},
     "output_type": "execute_result"
    }
   ],
   "source": [
    "np.array(bottom_tf).std(axis=0)"
   ]
  },
  {
   "cell_type": "code",
   "execution_count": null,
   "metadata": {},
   "outputs": [],
   "source": []
  }
 ],
 "metadata": {
  "kernelspec": {
   "display_name": "Python 3",
   "language": "python",
   "name": "python3"
  },
  "language_info": {
   "codemirror_mode": {
    "name": "ipython",
    "version": 3
   },
   "file_extension": ".py",
   "mimetype": "text/x-python",
   "name": "python",
   "nbconvert_exporter": "python",
   "pygments_lexer": "ipython3",
   "version": "3.8.5"
  }
 },
 "nbformat": 4,
 "nbformat_minor": 4
}
